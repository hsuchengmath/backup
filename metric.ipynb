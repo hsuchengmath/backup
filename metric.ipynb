{
 "cells": [
  {
   "cell_type": "code",
   "execution_count": null,
   "id": "1036c2f9-82cd-408c-ab65-4c9677dfc1c0",
   "metadata": {},
   "outputs": [],
   "source": []
  },
  {
   "cell_type": "code",
   "execution_count": null,
   "id": "e18a8886-7855-4f90-b5d7-8e71ff151156",
   "metadata": {},
   "outputs": [],
   "source": [
    "# Precision\n",
    "'''\n",
    "模型預測為正類的樣本中，有多少比例是正確的\n",
    "Precision = True Positives (TP) / (True Positives (TP) + False Positives (FP))\n",
    "適用場景：需要精準度高的場合，比如說 人臉辨識\n",
    "'''"
   ]
  },
  {
   "cell_type": "code",
   "execution_count": null,
   "id": "47405eb6-9aae-451c-88cf-29272b18bc3f",
   "metadata": {},
   "outputs": [],
   "source": [
    "# Recall\n",
    "'''\n",
    "正類的樣本中，有多少比例被模型正確預測出來\n",
    "Recall = True Positives (TP) / (True Positives (TP)+False Negatives (FN))\n",
    "適用場景：需要降低漏報的場合，比如說 異常偵測\n",
    "'''"
   ]
  },
  {
   "cell_type": "code",
   "execution_count": null,
   "id": "2d29ee2f-2921-4fe4-8ee1-e1ced7aa06e8",
   "metadata": {},
   "outputs": [],
   "source": [
    "# F1 score\n",
    "'''\n",
    "F1 Score = 2*(Precision*Recall) / (Precision+Recall)\n",
    "'''"
   ]
  },
  {
   "cell_type": "code",
   "execution_count": null,
   "id": "29865a2b-faed-4cfe-a03a-28e4e4c2b1fc",
   "metadata": {},
   "outputs": [],
   "source": [
    "class Metric:\n",
    "    def __init__(self, data):\n",
    "        self.TP = 0\n",
    "        self.FP = 0\n",
    "        self.FN = 0\n",
    "        self._calculation(data)\n",
    "    \n",
    "    def _calculation(self, data):\n",
    "        for\n",
    "\n",
    "    def recall_score(self):\n",
    "        pass\n",
    "    def precision_score(self):\n",
    "        pass\n",
    "    def f1_score(self):\n",
    "        pass\n",
    "        "
   ]
  },
  {
   "cell_type": "code",
   "execution_count": null,
   "id": "1e9b21bb-c90b-45a6-85b5-1cef141acf72",
   "metadata": {},
   "outputs": [],
   "source": []
  },
  {
   "cell_type": "code",
   "execution_count": null,
   "id": "c865909e-ba0b-4064-addb-fe14a903c3b9",
   "metadata": {},
   "outputs": [],
   "source": []
  }
 ],
 "metadata": {
  "kernelspec": {
   "display_name": "Python 3 (ipykernel)",
   "language": "python",
   "name": "python3"
  },
  "language_info": {
   "codemirror_mode": {
    "name": "ipython",
    "version": 3
   },
   "file_extension": ".py",
   "mimetype": "text/x-python",
   "name": "python",
   "nbconvert_exporter": "python",
   "pygments_lexer": "ipython3",
   "version": "3.9.6"
  }
 },
 "nbformat": 4,
 "nbformat_minor": 5
}
