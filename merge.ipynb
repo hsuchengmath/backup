{
 "cells": [
  {
   "cell_type": "code",
   "execution_count": null,
   "id": "8212de99-0b53-42a5-b1c0-97e057d9aced",
   "metadata": {},
   "outputs": [],
   "source": [
    "https://www.runoob.com/sql/sql-join.html"
   ]
  },
  {
   "cell_type": "code",
   "execution_count": null,
   "id": "b9df8810-3e8b-4425-9863-d5cb5f914214",
   "metadata": {},
   "outputs": [],
   "source": []
  },
  {
   "cell_type": "code",
   "execution_count": null,
   "id": "26cf048e-42ef-4531-8808-9c4a30139e1f",
   "metadata": {},
   "outputs": [],
   "source": [
    "left join\n",
    "返回左表中的所有记录，即使右表中没有匹配的记录（保留左表）"
   ]
  },
  {
   "cell_type": "code",
   "execution_count": null,
   "id": "8917520b-b511-40d7-beab-da411591e985",
   "metadata": {},
   "outputs": [],
   "source": [
    "INNER JOIN\n",
    "返回两个表中满足连接条件的记录（交集）"
   ]
  },
  {
   "cell_type": "code",
   "execution_count": null,
   "id": "1b999236-a038-4b7e-b601-376dd6028daa",
   "metadata": {},
   "outputs": [],
   "source": [
    "FULL OUTER JOIN\n",
    "返回两个表的并集，包含匹配和不匹配的记录。"
   ]
  }
 ],
 "metadata": {
  "kernelspec": {
   "display_name": "Python 3 (ipykernel)",
   "language": "python",
   "name": "python3"
  },
  "language_info": {
   "codemirror_mode": {
    "name": "ipython",
    "version": 3
   },
   "file_extension": ".py",
   "mimetype": "text/x-python",
   "name": "python",
   "nbconvert_exporter": "python",
   "pygments_lexer": "ipython3",
   "version": "3.9.6"
  }
 },
 "nbformat": 4,
 "nbformat_minor": 5
}
