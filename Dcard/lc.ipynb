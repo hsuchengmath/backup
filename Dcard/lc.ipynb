{
 "cells": [
  {
   "cell_type": "code",
   "execution_count": null,
   "id": "f77d8e6b-d6eb-4ec1-b02c-b2ffbafb5efe",
   "metadata": {},
   "outputs": [],
   "source": []
  },
  {
   "cell_type": "code",
   "execution_count": null,
   "id": "15c4fb91-6005-4a85-856e-1eea2e40bccf",
   "metadata": {},
   "outputs": [],
   "source": [
    "'''\n",
    "array\n",
    "1. two sum (1)\n",
    "2. Best Time to Buy and Sell Stock (121)\n",
    "3. Insert Interval (57)\n",
    "4. 3Sum (15)\n",
    "5. Merge Intervals (56)\n",
    "Container With Most Water (11)\n",
    "\n",
    "'''"
   ]
  },
  {
   "cell_type": "code",
   "execution_count": null,
   "id": "cdadad93-201e-430d-be73-9f590387fa67",
   "metadata": {},
   "outputs": [],
   "source": [
    "'''\n",
    "string\n",
    "'''"
   ]
  },
  {
   "cell_type": "code",
   "execution_count": null,
   "id": "4431871d-2b2e-4455-ada7-1f8bf67242b7",
   "metadata": {},
   "outputs": [],
   "source": [
    "'''\n",
    "binary search\n",
    "'''"
   ]
  },
  {
   "cell_type": "code",
   "execution_count": null,
   "id": "614d90a0-496c-409b-9888-31a552bbd582",
   "metadata": {},
   "outputs": [],
   "source": [
    "'''\n",
    "dp\n",
    "'''"
   ]
  },
  {
   "cell_type": "code",
   "execution_count": null,
   "id": "121a13c1-cf76-4928-86ea-591d2ab27499",
   "metadata": {},
   "outputs": [],
   "source": []
  }
 ],
 "metadata": {
  "kernelspec": {
   "display_name": "Python 3 (ipykernel)",
   "language": "python",
   "name": "python3"
  },
  "language_info": {
   "codemirror_mode": {
    "name": "ipython",
    "version": 3
   },
   "file_extension": ".py",
   "mimetype": "text/x-python",
   "name": "python",
   "nbconvert_exporter": "python",
   "pygments_lexer": "ipython3",
   "version": "3.9.6"
  }
 },
 "nbformat": 4,
 "nbformat_minor": 5
}
