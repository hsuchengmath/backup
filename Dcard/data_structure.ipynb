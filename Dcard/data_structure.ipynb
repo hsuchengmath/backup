{
 "cells": [
  {
   "cell_type": "code",
   "execution_count": null,
   "id": "8f122759-02cf-445e-babc-bb58af42417b",
   "metadata": {},
   "outputs": [],
   "source": []
  },
  {
   "cell_type": "code",
   "execution_count": null,
   "id": "960cc418-2d6a-4260-878b-1bbed566fdfd",
   "metadata": {},
   "outputs": [],
   "source": []
  },
  {
   "cell_type": "code",
   "execution_count": null,
   "id": "1b5c563f-b17c-462b-adc5-a0f5f91e6482",
   "metadata": {},
   "outputs": [],
   "source": [
    "'''\n",
    "implement set / min_stack / LRU\n",
    "'''"
   ]
  },
  {
   "cell_type": "code",
   "execution_count": 8,
   "id": "1f85023d-02a1-4768-b792-5934c24ccdc9",
   "metadata": {
    "tags": []
   },
   "outputs": [],
   "source": [
    "'''\n",
    "add(val : [str, int, float])\n",
    "\n",
    "remove(val : [str, int, float])\n",
    "\n",
    "contain(val : [str, int, float]) -> bool\n",
    "\n",
    "print\n",
    "'''\n",
    "\n",
    "class Set:\n",
    "    def __init__(self):\n",
    "        '''\n",
    "        key : val\n",
    "        value : None\n",
    "        '''\n",
    "        self.data = {}\n",
    "    \n",
    "    def add(self, val):\n",
    "        self.data[val] = None\n",
    "    \n",
    "    def remove(self, val):\n",
    "        if val in self.data:\n",
    "            self.data.pop(val)\n",
    "    \n",
    "    def contain(self, val):\n",
    "        if val in self.data:\n",
    "            return True\n",
    "        else:\n",
    "            return False\n",
    "    \n",
    "    def __repr__(self):\n",
    "        return f\"{list(self.data.keys())}\"\n",
    "    def __len__(self):\n",
    "        return len(self.data)"
   ]
  },
  {
   "cell_type": "code",
   "execution_count": 9,
   "id": "e40c1496-a0fe-4d46-b402-6dd7eaf28234",
   "metadata": {
    "tags": []
   },
   "outputs": [],
   "source": [
    "myset = Set()\n",
    "\n",
    "myset.add(1)"
   ]
  },
  {
   "cell_type": "code",
   "execution_count": 10,
   "id": "eeec8d68-5eb2-4446-8147-cf58b549ef8c",
   "metadata": {
    "tags": []
   },
   "outputs": [
    {
     "data": {
      "text/plain": [
       "[1]"
      ]
     },
     "execution_count": 10,
     "metadata": {},
     "output_type": "execute_result"
    }
   ],
   "source": [
    "myset"
   ]
  },
  {
   "cell_type": "code",
   "execution_count": 21,
   "id": "4c5396bc-2b08-4fad-8e2d-6ad0b909d2a6",
   "metadata": {
    "tags": []
   },
   "outputs": [],
   "source": [
    "'''\n",
    "請使用陣列實作一個堆疊（Stack），支援 push()、pop() 和 peek()。\n",
    "進階: 設計一個「可返回最小值」的堆疊 (getMin() 為 O(1))。\n",
    "\n",
    "LIFO : last in first out\n",
    "\n",
    "push(val) : store in top stack\n",
    "pop() : remove last value\n",
    "peek : check the top value of the stack\n",
    "\n",
    "'''\n",
    "\n",
    "\n",
    "class MinStack:\n",
    "    def __init__(self):\n",
    "        self.stack = []\n",
    "        self.min_stack = []\n",
    "\n",
    "    def push(self, val):\n",
    "        self.stack.append(val)\n",
    "        \n",
    "        if len(self.min_stack) == 0:\n",
    "            self.min_stack.append(val)\n",
    "        else:\n",
    "            current_min = self.min_stack[-1]\n",
    "            current_min = min(current_min, val)\n",
    "            self.min_stack.append(current_min)\n",
    "    \n",
    "    def pop(self):\n",
    "        if len(self.min_stack) > 0:\n",
    "            self.min_stack.pop(-1)\n",
    "        return self.stack.pop(-1)\n",
    "    \n",
    "    def peek(self):\n",
    "        return self.stack[-1]\n",
    "    \n",
    "    def get_min(self):\n",
    "        return min(self.stack), self.min_stack[-1]\n",
    "    \n",
    "        "
   ]
  },
  {
   "cell_type": "code",
   "execution_count": 22,
   "id": "9261d7cf-c93f-4dfb-bda3-89c58508c6da",
   "metadata": {
    "tags": []
   },
   "outputs": [],
   "source": [
    "stack = MinStack()"
   ]
  },
  {
   "cell_type": "code",
   "execution_count": 23,
   "id": "79c95f3c-1f59-4d66-812c-488113993020",
   "metadata": {
    "tags": []
   },
   "outputs": [],
   "source": [
    "stack.push(1)"
   ]
  },
  {
   "cell_type": "code",
   "execution_count": 24,
   "id": "c94ba367-e37f-4d18-a3e2-06120df8d46f",
   "metadata": {
    "tags": []
   },
   "outputs": [],
   "source": [
    "stack.push(-1)"
   ]
  },
  {
   "cell_type": "code",
   "execution_count": 25,
   "id": "4a201078-2174-4e95-9997-5101b6d475b8",
   "metadata": {
    "tags": []
   },
   "outputs": [],
   "source": [
    "stack.push(-5)"
   ]
  },
  {
   "cell_type": "code",
   "execution_count": 26,
   "id": "84f5e58c-1fb9-4be9-b529-9a7c1a677b29",
   "metadata": {
    "tags": []
   },
   "outputs": [
    {
     "data": {
      "text/plain": [
       "(-5, -5)"
      ]
     },
     "execution_count": 26,
     "metadata": {},
     "output_type": "execute_result"
    }
   ],
   "source": [
    "stack.get_min()"
   ]
  },
  {
   "cell_type": "code",
   "execution_count": 27,
   "id": "f2b91c53-1801-48ca-9b9f-b032da359993",
   "metadata": {
    "tags": []
   },
   "outputs": [
    {
     "data": {
      "text/plain": [
       "-5"
      ]
     },
     "execution_count": 27,
     "metadata": {},
     "output_type": "execute_result"
    }
   ],
   "source": [
    "stack.pop()"
   ]
  },
  {
   "cell_type": "code",
   "execution_count": 28,
   "id": "91d2beb9-3035-42eb-bad4-8b5d841e34d0",
   "metadata": {
    "tags": []
   },
   "outputs": [
    {
     "data": {
      "text/plain": [
       "(-1, -1)"
      ]
     },
     "execution_count": 28,
     "metadata": {},
     "output_type": "execute_result"
    }
   ],
   "source": [
    "stack.get_min()"
   ]
  },
  {
   "cell_type": "code",
   "execution_count": null,
   "id": "4e4342a3-1313-4377-a707-d70b86f38cbe",
   "metadata": {},
   "outputs": [],
   "source": []
  },
  {
   "cell_type": "code",
   "execution_count": null,
   "id": "37f6f65e-a23d-4d24-91b8-81bc3dad3011",
   "metadata": {},
   "outputs": [],
   "source": []
  },
  {
   "cell_type": "code",
   "execution_count": null,
   "id": "84467dc2-bdd1-40b1-b701-fcd0bcf5058f",
   "metadata": {},
   "outputs": [],
   "source": []
  },
  {
   "cell_type": "code",
   "execution_count": null,
   "id": "bafe7046-45e4-4ca6-98de-5a2c0861122a",
   "metadata": {},
   "outputs": [],
   "source": []
  },
  {
   "cell_type": "code",
   "execution_count": null,
   "id": "7e8c9da3-7777-4a21-902d-f1352a920c34",
   "metadata": {},
   "outputs": [],
   "source": []
  },
  {
   "cell_type": "code",
   "execution_count": null,
   "id": "0b5a33a6-afa8-4544-90f1-0eca29debf22",
   "metadata": {},
   "outputs": [],
   "source": []
  }
 ],
 "metadata": {
  "kernelspec": {
   "display_name": "Python 3 (ipykernel)",
   "language": "python",
   "name": "python3"
  },
  "language_info": {
   "codemirror_mode": {
    "name": "ipython",
    "version": 3
   },
   "file_extension": ".py",
   "mimetype": "text/x-python",
   "name": "python",
   "nbconvert_exporter": "python",
   "pygments_lexer": "ipython3",
   "version": "3.9.6"
  }
 },
 "nbformat": 4,
 "nbformat_minor": 5
}
