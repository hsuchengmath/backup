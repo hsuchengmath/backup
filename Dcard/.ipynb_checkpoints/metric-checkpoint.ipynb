{
 "cells": [
  {
   "cell_type": "code",
   "execution_count": null,
   "id": "994bdac7-2213-4fc8-b85b-36d89e56f80b",
   "metadata": {},
   "outputs": [],
   "source": []
  },
  {
   "cell_type": "code",
   "execution_count": null,
   "id": "b5fe3b9b-1c54-4c5e-8ea7-f3d93976db3a",
   "metadata": {},
   "outputs": [],
   "source": [
    "'''\n",
    "- implement metric (precision / recall / F1 / MAP / NDCG)\n",
    "'''"
   ]
  },
  {
   "cell_type": "code",
   "execution_count": null,
   "id": "5a751de4-9cc6-4e83-b150-cfd931431cc2",
   "metadata": {},
   "outputs": [],
   "source": [
    "'''\n",
    "precision / recall / F1\n",
    "\n",
    "multiple class, binary ??\n",
    "\n",
    "test :\n",
    "three class\n",
    "y_true = [0, 1, 2, 1, 2, 1]\n",
    "y_pred = [0, 1, 1 ,2, 2, 0]\n",
    "'''"
   ]
  },
  {
   "cell_type": "code",
   "execution_count": null,
   "id": "47d92579-884f-4528-b0f6-d38129bf60b2",
   "metadata": {},
   "outputs": [],
   "source": [
    "\n",
    "class Metric:\n",
    "    def __init__(self, y_true, y_pred):\n",
    "        # calculate true poitive (TP), false positive (FP) and false negative (FN)\n",
    "        self.TP, self.FP, self.FN = self.calculate_confusion_metrix(y_true, y_pred)\n",
    "    \n",
    "    def calculate_confusion_metrix(self, y_true, y_pred):\n",
    "        '''\n",
    "        y_true: list\n",
    "        y_pred: list\n",
    "        \n",
    "        output : TP, FP, FN (dict)\n",
    "        key : label, value : score\n",
    "        '''\n",
    "        all_labels = list(set(y_true))\n",
    "\n",
    "        TP = {label: 0 for label in all_labels}\n",
    "        FP = {label: 0 for label in all_labels}\n",
    "        FN = {label: 0 for label in all_labels}\n",
    "        \n",
    "        for y, y_p in zip(y_true, y_pred):\n",
    "            if y == y_p:\n",
    "                TP[y] +=1\n",
    "            else:\n",
    "                '''\n",
    "                all label : c1, c2, c3\n",
    "                ex : \n",
    "                y = c1\n",
    "                y_p = c2\n",
    "                what something you think it is postive, but it is false?\n",
    "                c2 -> y_p\n",
    "                what something you think it is negative, but it is false?\n",
    "                NOT c1 -> y\n",
    "                '''\n",
    "                FP[y_p] += 1\n",
    "                FN[y] += 1\n",
    "        return TP, FP, FN\n",
    "    \n",
    "    def precision_score(self):\n",
    "        \n",
    "        all_labels = list(TP.keys())\n",
    "        \n",
    "        precision = {}\n",
    "        \n",
    "        for label in all_labels:\n",
    "            if self.TP[label] + self.FP[label] > 0:\n",
    "                precision[label] = self.TP[label] / (self.TP[label] + self.FP[label])\n",
    "            else:\n",
    "                precision[label] = 0.0\n",
    "        return precision\n",
    "        \n",
    "        \n",
    "        \n",
    "        "
   ]
  },
  {
   "cell_type": "code",
   "execution_count": null,
   "id": "c23e1552-aea1-4685-aaff-7352f747fda6",
   "metadata": {},
   "outputs": [],
   "source": []
  },
  {
   "cell_type": "code",
   "execution_count": null,
   "id": "3b9fbd4d-d1d2-4a7d-9a02-e2f201cfd656",
   "metadata": {},
   "outputs": [],
   "source": []
  },
  {
   "cell_type": "code",
   "execution_count": null,
   "id": "d7b89eec-8873-4a22-8fad-a200cffc7237",
   "metadata": {},
   "outputs": [],
   "source": []
  }
 ],
 "metadata": {
  "kernelspec": {
   "display_name": "Python 3 (ipykernel)",
   "language": "python",
   "name": "python3"
  },
  "language_info": {
   "codemirror_mode": {
    "name": "ipython",
    "version": 3
   },
   "file_extension": ".py",
   "mimetype": "text/x-python",
   "name": "python",
   "nbconvert_exporter": "python",
   "pygments_lexer": "ipython3",
   "version": "3.9.6"
  }
 },
 "nbformat": 4,
 "nbformat_minor": 5
}
