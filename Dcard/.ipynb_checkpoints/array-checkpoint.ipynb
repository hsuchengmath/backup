{
 "cells": [
  {
   "cell_type": "code",
   "execution_count": null,
   "id": "8aad90eb-8369-46b0-b348-53e64d730f42",
   "metadata": {},
   "outputs": [],
   "source": []
  },
  {
   "cell_type": "code",
   "execution_count": null,
   "id": "aaab4e3e-d107-4b40-9c13-b29a15657612",
   "metadata": {},
   "outputs": [],
   "source": [
    "'''\n",
    "two sum (1)\n",
    "\n",
    "given an array nums and a target, \n",
    "then find two different indices to make the two sum be target\n",
    "there is exactly one solution...\n",
    "\n",
    "test:\n",
    "nums = [7, 1, 2, 5]\n",
    "target = 9\n",
    "\n",
    "output = [0, 2]\n",
    "\n",
    "time: O(n), where n = len(nums)\n",
    "space: S(n)\n",
    "\n",
    "'''"
   ]
  },
  {
   "cell_type": "code",
   "execution_count": 1,
   "id": "2becfb64-9315-4d3e-a3b4-0d24361ca6e6",
   "metadata": {
    "tags": []
   },
   "outputs": [],
   "source": [
    "def main(nums, target) -> list:\n",
    "    hist_indice = {}\n",
    "    \n",
    "    for i, val in enumerate(nums):\n",
    "        diff = target - val\n",
    "        if diff in hist_indice:\n",
    "            return [hist_indice[diff], i]\n",
    "        hist_indice[val] = i"
   ]
  },
  {
   "cell_type": "code",
   "execution_count": 2,
   "id": "d806525c-2536-4053-9772-cc1d20067e0d",
   "metadata": {
    "tags": []
   },
   "outputs": [],
   "source": [
    "nums = [7, 1, 2, 5]\n",
    "target = 9"
   ]
  },
  {
   "cell_type": "code",
   "execution_count": 3,
   "id": "69ad13ca-b5d5-437d-94df-2024dbc6f77e",
   "metadata": {
    "tags": []
   },
   "outputs": [
    {
     "data": {
      "text/plain": [
       "[0, 2]"
      ]
     },
     "execution_count": 3,
     "metadata": {},
     "output_type": "execute_result"
    }
   ],
   "source": [
    "main(nums, target)"
   ]
  },
  {
   "cell_type": "code",
   "execution_count": null,
   "id": "cf98d3db-808f-4c6c-8e78-fe1f32b07fb0",
   "metadata": {},
   "outputs": [],
   "source": [
    "'''\n",
    "Best Time to Buy and Sell Stock (121)\n",
    "\n",
    "given an array prices, where the each value of prices is i-day stock price\n",
    "Then we choose two diff days to buy stock and finally get best benefit\n",
    "\n",
    "test:\n",
    "prices = [3, 2 ,1, 5, 6, 3, 1]\n",
    "\n",
    "output = 5\n",
    "\n",
    "time : O(n)\n",
    "space : S(1)\n",
    "\n",
    "'''"
   ]
  },
  {
   "cell_type": "code",
   "execution_count": 4,
   "id": "8ee742ea-3052-4786-80b2-a801145149e3",
   "metadata": {
    "tags": []
   },
   "outputs": [],
   "source": [
    "def main(prices) -> int:\n",
    "    output = -float('inf')\n",
    "    min_stock = prices[0]\n",
    "    \n",
    "    for p in prices:\n",
    "        # calculate current benefit (current price - min stock price)\n",
    "        cur_benefit = p - min_stock\n",
    "        # update min stock price\n",
    "        min_stock = min(min_stock, p)\n",
    "        # update output\n",
    "        output = max(output, cur_benefit)\n",
    "    return output\n"
   ]
  },
  {
   "cell_type": "code",
   "execution_count": 5,
   "id": "794db723-cb88-4e09-afc8-c1a948687a24",
   "metadata": {
    "tags": []
   },
   "outputs": [
    {
     "data": {
      "text/plain": [
       "5"
      ]
     },
     "execution_count": 5,
     "metadata": {},
     "output_type": "execute_result"
    }
   ],
   "source": [
    "prices = [3, 2 ,1, 5, 6, 3, 1]\n",
    "\n",
    "main(prices)"
   ]
  },
  {
   "cell_type": "code",
   "execution_count": null,
   "id": "d196d565-50f4-42bb-80fc-5a79b3fedd44",
   "metadata": {},
   "outputs": [],
   "source": []
  },
  {
   "cell_type": "code",
   "execution_count": null,
   "id": "f4b8f06b-223b-4b7f-9d05-98c2bae6b8f3",
   "metadata": {},
   "outputs": [],
   "source": [
    "'''\n",
    "Insert Interval (57)\n",
    "\n",
    "given an array intervals and an array newInterval\n",
    "where intervals is look like [[start, end], ....], sort by start\n",
    "and it is non-overlapping\n",
    "please insert newInterval and keep non-overlapping\n",
    "\n",
    "test:\n",
    "\n",
    "intervals = [[1,3], [4,5], [7,9]]\n",
    "newInterval = [2,6]\n",
    "\n",
    "output = [[1,6], [7,9]]\n",
    "\n",
    "time : O(n), then n is len(intervals)\n",
    "space : S(n)\n",
    "'''"
   ]
  },
  {
   "cell_type": "code",
   "execution_count": 6,
   "id": "4e2c751a-9439-45ef-8ee5-1c546c2185a3",
   "metadata": {
    "tags": []
   },
   "outputs": [],
   "source": [
    "def main(intervals, newInterval):\n",
    "    # insert newInterval into intervals and keep accending by start\n",
    "    ## top, button\n",
    "    if intervals[0][0] >= newInterval[0]:\n",
    "        intervals = [newInterval] + intervals\n",
    "    if intervals[-1][0] <= newInterval[0]:\n",
    "        intervals.append(newInterval)\n",
    "    # middle\n",
    "    for i in range(len(intervals)-1):\n",
    "        first_intr = intervals[i]\n",
    "        second_intr = intervals[i+1]\n",
    "        if first_intr[0] <= newInterval[0] <= second_intr[0]:\n",
    "            intervals = intervals[:i+1] + [newInterval] + intervals[i+1:]\n",
    "            break\n",
    "    # build output and keep non-overlapping\n",
    "    output = []\n",
    "    for intr in intervals:\n",
    "        if len(output) == 0:\n",
    "            output.append(intr)\n",
    "        else:\n",
    "            prev_intr = output.pop(-1)\n",
    "            # check overlap or not\n",
    "            # if is, then union together\n",
    "            if prev_intr[1] >= intr[0]:\n",
    "                new_intr = [prev_intr[0], max(prev_intr[1], intr[1])]\n",
    "                output.append(new_intr)\n",
    "            # if not, then append intr in output\n",
    "            else:\n",
    "                output.append(prev_intr)\n",
    "                output.append(intr)\n",
    "    return output"
   ]
  },
  {
   "cell_type": "code",
   "execution_count": 7,
   "id": "6e0e1eaa-b0af-4ead-ad74-8f18f54008aa",
   "metadata": {
    "tags": []
   },
   "outputs": [
    {
     "data": {
      "text/plain": [
       "[[1, 6], [7, 9]]"
      ]
     },
     "execution_count": 7,
     "metadata": {},
     "output_type": "execute_result"
    }
   ],
   "source": [
    "intervals = [[1,3], [4,5], [7,9]]\n",
    "newInterval = [2,6]\n",
    "\n",
    "main(intervals, newInterval)"
   ]
  },
  {
   "cell_type": "code",
   "execution_count": 36,
   "id": "7292874c-d380-4ba3-a6b2-6512e65ecf1f",
   "metadata": {},
   "outputs": [
    {
     "data": {
      "text/plain": [
       "[-4, -1, -1, 0, 1, 2]"
      ]
     },
     "execution_count": 36,
     "metadata": {},
     "output_type": "execute_result"
    }
   ],
   "source": [
    "sorted([-1,0,1,2,-1,-4])"
   ]
  },
  {
   "cell_type": "code",
   "execution_count": null,
   "id": "c9918eca-3ea9-4d2e-a0b5-965a7f61df72",
   "metadata": {},
   "outputs": [],
   "source": [
    "'''\n",
    "3Sum (15)\n",
    "\n",
    "given an array nums, then return all posible triple array can sum up to zero\n",
    "and not contain duplicate\n",
    "\n",
    "nums = [-1,0,1,2,-1,-4]\n",
    "\n",
    "output = [[-1,-1,2],[-1,0,1]]\n",
    "\n",
    "time = O(n**2)\n",
    "space = S()\n",
    "\n",
    "'''"
   ]
  },
  {
   "cell_type": "code",
   "execution_count": 8,
   "id": "f1b2d68e-0b33-4a68-96a4-964017451c0c",
   "metadata": {
    "tags": []
   },
   "outputs": [],
   "source": [
    "def main(nums):\n",
    "    output = []\n",
    "    nums = sorted(nums)\n",
    "    \n",
    "    for i in range(len(nums)-2):\n",
    "        val = nums[i]\n",
    "        \n",
    "        if i > 0 and val == nums[i-1]:\n",
    "            continue\n",
    "        \n",
    "        l, r = i+1, len(nums)-1\n",
    "        \n",
    "        while l< r:\n",
    "            sum_ = val + nums[l] + nums[r]\n",
    "            if sum_ == 0:\n",
    "                output.append([val, nums[l], nums[r]])\n",
    "                while nums[l] == nums[l+1] and l+1 < r:\n",
    "                    l +=1\n",
    "                l +=1\n",
    "            elif sum_ > 0:\n",
    "                r -=1\n",
    "            else:\n",
    "                l +=1\n",
    "    return output"
   ]
  },
  {
   "cell_type": "code",
   "execution_count": 9,
   "id": "a8755ea5-d7bb-4dca-bf15-8bc8c9ed5b13",
   "metadata": {
    "tags": []
   },
   "outputs": [
    {
     "data": {
      "text/plain": [
       "[[-1, -1, 2], [-1, 0, 1]]"
      ]
     },
     "execution_count": 9,
     "metadata": {},
     "output_type": "execute_result"
    }
   ],
   "source": [
    "nums = [-1,0,1,2,-1,-4]\n",
    "\n",
    "main(nums)"
   ]
  },
  {
   "cell_type": "code",
   "execution_count": null,
   "id": "d867a063-8749-4f7d-b716-9cef5efc6afa",
   "metadata": {},
   "outputs": [],
   "source": []
  },
  {
   "cell_type": "code",
   "execution_count": null,
   "id": "b742ed26-a486-4eb6-b35f-691801478d3e",
   "metadata": {},
   "outputs": [],
   "source": [
    "'''\n",
    "Product of Array Except Self (238) [non-mock]\n",
    "\n",
    "given an array nums, then product the all value except original one\n",
    "\n",
    "nums = [1,2,0]\n",
    "\n",
    "output = [0, 0, 2]\n",
    "'''"
   ]
  },
  {
   "cell_type": "code",
   "execution_count": 12,
   "id": "49cb6804-8b71-4e8d-82c6-63375a2b55e0",
   "metadata": {
    "tags": []
   },
   "outputs": [],
   "source": [
    "def main(nums):\n",
    "    left = [1] * len(nums)\n",
    "    right = [1] * len(nums)\n",
    "    \n",
    "    for i in range(1, len(nums)):\n",
    "        left[i] = left[i-1] * nums[i-1]\n",
    "    for i in range(len(nums)-2, -1, -1):\n",
    "        right[i] = right[i+1] * nums[i+1]\n",
    "        \n",
    "    output = []\n",
    "    for i in range(len(nums)):\n",
    "        output.append(left[i] * right[i])\n",
    "    return output\n",
    "    "
   ]
  },
  {
   "cell_type": "code",
   "execution_count": 13,
   "id": "ff047a2b-1e7c-40f0-83d4-aaba74ee5743",
   "metadata": {
    "tags": []
   },
   "outputs": [
    {
     "data": {
      "text/plain": [
       "[0, 0, 2]"
      ]
     },
     "execution_count": 13,
     "metadata": {},
     "output_type": "execute_result"
    }
   ],
   "source": [
    "nums = [1,2,0]\n",
    "\n",
    "main(nums)"
   ]
  },
  {
   "cell_type": "code",
   "execution_count": null,
   "id": "115c7b6b-ffa3-4a1f-a86f-dd90c7d1933e",
   "metadata": {},
   "outputs": [],
   "source": [
    "'''\n",
    "Merge Intervals (56)\n",
    "\n",
    "given an array intervals, \n",
    "merge overlapping interval \n",
    "and then make nums be non-overlapping\n",
    "\n",
    "test:\n",
    "intervals = [[1,3],[2,6],[8,10],[15,18]]\n",
    "output = [[1,6],[8,10],[15,18]]\n",
    "\n",
    "time = O(nlogn)\n",
    "space = S(n)\n",
    "\n",
    "'''"
   ]
  },
  {
   "cell_type": "code",
   "execution_count": 14,
   "id": "25c4fd8a-7130-46cc-9858-f54bcb4015ba",
   "metadata": {
    "tags": []
   },
   "outputs": [],
   "source": [
    "def main(intervals):\n",
    "    # sort\n",
    "    intervals = sorted(intervals)\n",
    "    # create empty array output and put each interval into output\n",
    "    # and keep non-overlapping\n",
    "    output = []\n",
    "    \n",
    "    for intr in intervals:\n",
    "        if len(output) == 0:\n",
    "            output.append(intr)\n",
    "        else:\n",
    "            # pop last one interval\n",
    "            prev_intr = output.pop(-1)\n",
    "            # check overlapping or nnot\n",
    "            if prev_intr[1] >= intr[0]:\n",
    "                new_intr = [prev_intr[0], max(prev_intr[1], intr[1])]\n",
    "                output.append(new_intr)\n",
    "            else:\n",
    "                output.append(prev_intr)\n",
    "                output.append(intr)\n",
    "    return output"
   ]
  },
  {
   "cell_type": "code",
   "execution_count": 15,
   "id": "f9b591cc-852d-4caf-b2a4-e1f07e4182f7",
   "metadata": {
    "tags": []
   },
   "outputs": [
    {
     "data": {
      "text/plain": [
       "[[1, 6], [8, 10], [15, 18]]"
      ]
     },
     "execution_count": 15,
     "metadata": {},
     "output_type": "execute_result"
    }
   ],
   "source": [
    "intervals = [[1,3],[2,6],[8,10],[15,18]]\n",
    "main(intervals)\n"
   ]
  },
  {
   "cell_type": "code",
   "execution_count": null,
   "id": "6f8096e4-f8f5-4037-a2ab-f0790a56cccf",
   "metadata": {},
   "outputs": [],
   "source": [
    "'''\n",
    "Sort Colors (75) [non-mock]\n",
    "\n",
    "\n",
    "'''"
   ]
  },
  {
   "cell_type": "code",
   "execution_count": null,
   "id": "124ccc72-cbb2-48f2-9dff-98aa3f779dfd",
   "metadata": {},
   "outputs": [],
   "source": [
    "'''\n",
    "Container With Most Water (11)\n",
    "\n",
    "given an array height and the value of the height \n",
    "represents the vertical line. \n",
    "\n",
    "please choose two diff vertical line and fill out water\n",
    "Find the max amount of water.\n",
    "\n",
    "Input: height = [1,8,6,2,5,4,8,3,7]\n",
    "Output: 49\n",
    "\n",
    "time : O(n)\n",
    "space : O(1)\n",
    "\n",
    "'''"
   ]
  },
  {
   "cell_type": "code",
   "execution_count": 17,
   "id": "1857c527-9306-4e48-bb2d-d946df9a81bd",
   "metadata": {
    "tags": []
   },
   "outputs": [],
   "source": [
    "def main(height):\n",
    "    l, r = 0, len(height)-1\n",
    "    max_amount = -float('inf')\n",
    "    while l < r:\n",
    "        # update max_amount\n",
    "        current_amount = min(height[l], height[r]) * (r-l)\n",
    "        max_amount = max(max_amount, current_amount)\n",
    "        # updtae left / right point\n",
    "        if l >= r:\n",
    "            r -=1\n",
    "        else:\n",
    "            l +=1\n",
    "    return max_amount"
   ]
  },
  {
   "cell_type": "code",
   "execution_count": 18,
   "id": "f540236e-ee0e-4b92-8aef-da893ce5e9e9",
   "metadata": {
    "tags": []
   },
   "outputs": [
    {
     "data": {
      "text/plain": [
       "49"
      ]
     },
     "execution_count": 18,
     "metadata": {},
     "output_type": "execute_result"
    }
   ],
   "source": [
    "height = [1,8,6,2,5,4,8,3,7]\n",
    "\n",
    "main(height)"
   ]
  },
  {
   "cell_type": "code",
   "execution_count": null,
   "id": "4ffffc03-f371-419d-babc-d7aecaecfdf0",
   "metadata": {},
   "outputs": [],
   "source": [
    "'''\n",
    "Longest Consecutive Sequence (128)\n",
    "\n",
    "given an array nums, find the longest continuous sequence\n",
    "\n",
    "test : \n",
    "nums = [100,4,200,1,3,2]\n",
    "output :  4\n",
    "\n",
    "'''"
   ]
  },
  {
   "cell_type": "code",
   "execution_count": 19,
   "id": "02a3168b-41d1-4fb1-8ec4-b447a5ff37e4",
   "metadata": {
    "tags": []
   },
   "outputs": [],
   "source": [
    "def main(nums):\n",
    "    max_cont_seq = 0\n",
    "    all_values = set(nums)\n",
    "\n",
    "    for val in nums:\n",
    "        # check start value\n",
    "        if val - 1 not in all_values:\n",
    "            # while loop and then exist next value\n",
    "            cont_seq = 1\n",
    "            while val + 1 in all_values:\n",
    "                cont_seq +=1\n",
    "                val +=1\n",
    "            # update max_cont_seq\n",
    "            max_cont_seq = max(max_cont_seq, cont_seq)\n",
    "    return max_cont_seq"
   ]
  },
  {
   "cell_type": "code",
   "execution_count": 20,
   "id": "d3367a41-65ca-4342-98aa-9318798716c2",
   "metadata": {
    "tags": []
   },
   "outputs": [
    {
     "data": {
      "text/plain": [
       "4"
      ]
     },
     "execution_count": 20,
     "metadata": {},
     "output_type": "execute_result"
    }
   ],
   "source": [
    "nums = [100,4,200,1,3,2]\n",
    "\n",
    "main(nums)"
   ]
  },
  {
   "cell_type": "code",
   "execution_count": null,
   "id": "b0dee85b-fe04-4e10-8120-b3c461f4a7a1",
   "metadata": {},
   "outputs": [],
   "source": []
  },
  {
   "cell_type": "code",
   "execution_count": null,
   "id": "5b46993d-73be-43ea-9333-8c40c1c2ede7",
   "metadata": {},
   "outputs": [],
   "source": [
    "'''\n",
    "Rotate Array (189)\n",
    "\n",
    "given an array and integer k\n",
    "\n",
    "please rotate the array to the right by k step\n",
    "\n",
    "modify nums in-place instead\n",
    "\n",
    "example:\n",
    "nums = [1,2,3,4,5]\n",
    "k = 3\n",
    "=> [3,4,5,1,2]\n",
    "\n",
    "'''"
   ]
  },
  {
   "cell_type": "code",
   "execution_count": 23,
   "id": "6534ab1a-b583-4528-b488-4614fc57699e",
   "metadata": {
    "tags": []
   },
   "outputs": [],
   "source": [
    "def main(nums, k):    \n",
    "    for _ in range(k):\n",
    "        idx = len(nums)-1\n",
    "        while idx - 1 >= 0:\n",
    "            nums[idx], nums[idx-1] = nums[idx-1], nums[idx]\n",
    "            idx -=1\n",
    "    return nums"
   ]
  },
  {
   "cell_type": "code",
   "execution_count": 24,
   "id": "cb4a0dca-0882-47f1-89c2-a82653ad2881",
   "metadata": {
    "tags": []
   },
   "outputs": [
    {
     "data": {
      "text/plain": [
       "[3, 4, 5, 1, 2]"
      ]
     },
     "execution_count": 24,
     "metadata": {},
     "output_type": "execute_result"
    }
   ],
   "source": [
    "nums = [1,2,3,4,5]\n",
    "\n",
    "main(nums, 3)"
   ]
  },
  {
   "cell_type": "code",
   "execution_count": null,
   "id": "74def0a1-05fe-431d-8ee2-e5dfab17b841",
   "metadata": {},
   "outputs": [],
   "source": [
    "'''\n",
    "Subarray Sum Equals K (560)\n",
    "\n",
    "given array and k\n",
    "find how many subarray can sum up to k\n",
    "\n",
    "test:\n",
    "nums = [1,2,3,-1,5,6]\n",
    "k = 4\n",
    "\n",
    "output: 2\n",
    "\n",
    "'''"
   ]
  },
  {
   "cell_type": "code",
   "execution_count": 27,
   "id": "cc516b87-1f82-40a7-8fa2-3f0af9b57735",
   "metadata": {
    "tags": []
   },
   "outputs": [],
   "source": [
    "from collections import defaultdict\n",
    "\n",
    "def main(nums, k):\n",
    "    # build accumulate array\n",
    "    # ex: [1,3,6,5,10,16]\n",
    "    accum_nums = [nums[0]]\n",
    "    for i in range(1, len(nums)):\n",
    "        accum_nums.append(accum_nums[i-1]+nums[i])\n",
    "    # given dict, accum2cnt\n",
    "    output = 0\n",
    "    accum2cnt = defaultdict(int)\n",
    "    accum2cnt[0] = 1\n",
    "    # for loop accumulate_array and collect accum2cnt\n",
    "    # check current accum - k in accum2cnt\n",
    "    for accum_val in accum_nums:\n",
    "        if accum_val - k in accum2cnt:\n",
    "            output += accum2cnt[accum_val - k]\n",
    "        accum2cnt[accum_val] +=1\n",
    "    return output"
   ]
  },
  {
   "cell_type": "code",
   "execution_count": 28,
   "id": "9fd8f03b-8fa9-4e83-bf9e-aea5d949ab88",
   "metadata": {
    "tags": []
   },
   "outputs": [
    {
     "data": {
      "text/plain": [
       "2"
      ]
     },
     "execution_count": 28,
     "metadata": {},
     "output_type": "execute_result"
    }
   ],
   "source": [
    "nums = [1,2,3,-1,5,6]\n",
    "k = 4\n",
    "\n",
    "main(nums, k)"
   ]
  },
  {
   "cell_type": "code",
   "execution_count": null,
   "id": "5a0711d4-9814-49dd-8e7a-c4ff788428bb",
   "metadata": {},
   "outputs": [],
   "source": []
  },
  {
   "cell_type": "code",
   "execution_count": null,
   "id": "121c1127-73db-402f-b4f3-c549e9b00226",
   "metadata": {},
   "outputs": [],
   "source": [
    "'''\n",
    "Squares of a Sorted Array (977)\n",
    "\n",
    "given sorted array nums\n",
    "please suare each element and then sort it\n",
    "\n",
    "nums = [-2,-1,0,1,2,3]\n",
    "\n",
    "\n",
    "'''"
   ]
  },
  {
   "cell_type": "code",
   "execution_count": 29,
   "id": "934adf72-e15e-4b1d-bbe4-5658907478bb",
   "metadata": {
    "tags": []
   },
   "outputs": [],
   "source": [
    "def main(nums):\n",
    "    output = []\n",
    "    l, r = 0, len(nums)-1\n",
    "    \n",
    "    while len(output) != len(nums):\n",
    "        left = nums[l] ** 2\n",
    "        right = nums[r] ** 2\n",
    "        if left >= right:\n",
    "            output = [left] + output\n",
    "            l +=1\n",
    "        else:\n",
    "            output = [right] + output\n",
    "            r -=1 \n",
    "    return output"
   ]
  },
  {
   "cell_type": "code",
   "execution_count": 31,
   "id": "c53d4966-5a60-474e-b4b1-36e832d1228c",
   "metadata": {
    "tags": []
   },
   "outputs": [
    {
     "data": {
      "text/plain": [
       "[0, 1, 1, 4, 4, 9]"
      ]
     },
     "execution_count": 31,
     "metadata": {},
     "output_type": "execute_result"
    }
   ],
   "source": [
    "nums = [-2,-1,0,1,2,3]\n",
    "\n",
    "main(nums)"
   ]
  },
  {
   "cell_type": "code",
   "execution_count": null,
   "id": "0584c451-e3f1-49f9-9827-e5e55a3e7cf2",
   "metadata": {},
   "outputs": [],
   "source": []
  },
  {
   "cell_type": "code",
   "execution_count": null,
   "id": "57ed0068-cd02-4f78-8188-e7330a817035",
   "metadata": {},
   "outputs": [],
   "source": [
    "'''\n",
    "3Sum Closest (16)\n",
    "\n",
    "given array nums and target\n",
    "find three value st. sum up closed to k\n",
    "And return sum value\n",
    "\n",
    "test:\n",
    "nums = [-1,2,1,-4]\n",
    "target = 1\n",
    "\n",
    "output = 2\n",
    "\n",
    "\n",
    "'''"
   ]
  },
  {
   "cell_type": "code",
   "execution_count": 34,
   "id": "358604ce-3495-48bb-8aa1-15298e85bd9d",
   "metadata": {
    "tags": []
   },
   "outputs": [],
   "source": [
    "def main(nums, target):\n",
    "    nums = sorted(nums)\n",
    "    output = float('inf')\n",
    "    \n",
    "    for i in range(len(nums)-2):\n",
    "        l, r = i+1, len(nums)-1\n",
    "        while l < r:\n",
    "            total = nums[i] + nums[l] + nums[r]\n",
    "            if total == target:\n",
    "                return target\n",
    "            elif total > target:\n",
    "                r -=1\n",
    "            else:\n",
    "                l +=1\n",
    "            if abs(output - target) > abs(total - target):\n",
    "                output = total     \n",
    "    return output"
   ]
  },
  {
   "cell_type": "code",
   "execution_count": 35,
   "id": "a8e03325-3f94-4d96-b29e-3ab120027af2",
   "metadata": {
    "tags": []
   },
   "outputs": [
    {
     "data": {
      "text/plain": [
       "2"
      ]
     },
     "execution_count": 35,
     "metadata": {},
     "output_type": "execute_result"
    }
   ],
   "source": [
    "nums = [-1,2,1,-4]\n",
    "target = 1\n",
    "\n",
    "main(nums, target)"
   ]
  },
  {
   "cell_type": "code",
   "execution_count": null,
   "id": "16ca039b-792d-4942-982e-7116ba689771",
   "metadata": {},
   "outputs": [],
   "source": []
  },
  {
   "cell_type": "code",
   "execution_count": null,
   "id": "7cbcd755-94d2-4d79-9f2b-8ddb44b5397b",
   "metadata": {},
   "outputs": [],
   "source": []
  }
 ],
 "metadata": {
  "kernelspec": {
   "display_name": "Python 3 (ipykernel)",
   "language": "python",
   "name": "python3"
  },
  "language_info": {
   "codemirror_mode": {
    "name": "ipython",
    "version": 3
   },
   "file_extension": ".py",
   "mimetype": "text/x-python",
   "name": "python",
   "nbconvert_exporter": "python",
   "pygments_lexer": "ipython3",
   "version": "3.9.6"
  }
 },
 "nbformat": 4,
 "nbformat_minor": 5
}
