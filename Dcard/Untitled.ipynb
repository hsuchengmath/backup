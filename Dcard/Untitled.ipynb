{
 "cells": [
  {
   "cell_type": "code",
   "execution_count": null,
   "id": "9f616625-9213-405a-8aea-0ac3eaa8c093",
   "metadata": {},
   "outputs": [],
   "source": []
  },
  {
   "cell_type": "code",
   "execution_count": 52,
   "id": "83d5fdd8-e550-4ae4-8f97-12144c87abcf",
   "metadata": {
    "tags": []
   },
   "outputs": [],
   "source": [
    "class MySet:\n",
    "    def __init__(self):\n",
    "        self.data = {}\n",
    "    def add(self, value):\n",
    "        self.data[value] = None\n",
    "    def remove(self, value):\n",
    "        if value in self.data:\n",
    "            del self.data[value]\n",
    "    def contain(self, value):\n",
    "        if value in self.data:\n",
    "            return True\n",
    "        else:\n",
    "            return False\n",
    "    def __len__(self):\n",
    "        return len(self.data)\n",
    "    def __iter__(self):\n",
    "        return iter(self.data)\n",
    "    def __repr__(self):\n",
    "        return f\"{list(self.data.keys())}\"\n",
    "    def union(self, Set):\n",
    "        union_set = MySet()\n",
    "        \n",
    "        for val in Set:\n",
    "            union_set.add(val)\n",
    "        for val in self.data.keys():\n",
    "            union_set.add(val)\n",
    "        return union_set\n",
    "    \n",
    "    def intersection(self, Set):\n",
    "        intersection_set = MySet()\n",
    "        \n",
    "        for val in Set:\n",
    "            if val in self.data:\n",
    "                intersection_set.add(val)\n",
    "        return intersection_set\n",
    "    \n",
    "    def difference(self, Set):\n",
    "        difference "
   ]
  },
  {
   "cell_type": "code",
   "execution_count": 53,
   "id": "c82b2231-68b9-493a-b205-e9a0db4f9c28",
   "metadata": {
    "tags": []
   },
   "outputs": [],
   "source": [
    "Set = MySet()"
   ]
  },
  {
   "cell_type": "code",
   "execution_count": 54,
   "id": "a486360e-1cd2-478a-9c8c-cdad4e1dba0e",
   "metadata": {
    "tags": []
   },
   "outputs": [],
   "source": [
    "Set.add(1)"
   ]
  },
  {
   "cell_type": "code",
   "execution_count": 55,
   "id": "6ae027ca-194c-4a26-bdac-1163ae25759c",
   "metadata": {
    "tags": []
   },
   "outputs": [],
   "source": [
    "Set.add(2)"
   ]
  },
  {
   "cell_type": "code",
   "execution_count": 56,
   "id": "fbf87e14-d834-4695-b675-f26761d04289",
   "metadata": {
    "tags": []
   },
   "outputs": [
    {
     "data": {
      "text/plain": [
       "[1, 2]"
      ]
     },
     "execution_count": 56,
     "metadata": {},
     "output_type": "execute_result"
    }
   ],
   "source": [
    "Set"
   ]
  },
  {
   "cell_type": "code",
   "execution_count": 51,
   "id": "d65552fe-b03d-4cfe-983e-06b99adf0fc4",
   "metadata": {
    "tags": []
   },
   "outputs": [
    {
     "data": {
      "text/plain": [
       "2"
      ]
     },
     "execution_count": 51,
     "metadata": {},
     "output_type": "execute_result"
    }
   ],
   "source": [
    "len(Set)"
   ]
  },
  {
   "cell_type": "code",
   "execution_count": 24,
   "id": "1ebc5dee-9bff-4165-b9a2-5d7d95f89e01",
   "metadata": {
    "tags": []
   },
   "outputs": [
    {
     "name": "stdout",
     "output_type": "stream",
     "text": [
      "1\n",
      "2\n"
     ]
    }
   ],
   "source": [
    "for v in Set:\n",
    "    print(v)"
   ]
  },
  {
   "cell_type": "code",
   "execution_count": 26,
   "id": "ea18e310-4b2e-4096-a68f-ba6c33db92d3",
   "metadata": {
    "tags": []
   },
   "outputs": [],
   "source": [
    "a = set()"
   ]
  },
  {
   "cell_type": "code",
   "execution_count": 27,
   "id": "6ef7445a-15a6-4ec1-bf46-f43c51052972",
   "metadata": {
    "tags": []
   },
   "outputs": [],
   "source": [
    "a.add(1)"
   ]
  },
  {
   "cell_type": "code",
   "execution_count": 28,
   "id": "f8bc3390-99b5-4959-8666-036047f233e3",
   "metadata": {
    "tags": []
   },
   "outputs": [],
   "source": [
    "a.add(2)"
   ]
  },
  {
   "cell_type": "code",
   "execution_count": 29,
   "id": "1d583675-0d9c-4ffa-ac05-df8dc935911a",
   "metadata": {
    "tags": []
   },
   "outputs": [
    {
     "data": {
      "text/plain": [
       "{1, 2}"
      ]
     },
     "execution_count": 29,
     "metadata": {},
     "output_type": "execute_result"
    }
   ],
   "source": [
    "a"
   ]
  },
  {
   "cell_type": "code",
   "execution_count": 30,
   "id": "770076b5-1672-449a-a042-1a0fb124e637",
   "metadata": {
    "tags": []
   },
   "outputs": [
    {
     "name": "stdout",
     "output_type": "stream",
     "text": [
      "1\n",
      "2\n"
     ]
    }
   ],
   "source": [
    "for v in Set:\n",
    "    print(v)"
   ]
  },
  {
   "cell_type": "code",
   "execution_count": null,
   "id": "d86d7bbf-0a4c-4aad-857b-51c4ac5699b3",
   "metadata": {},
   "outputs": [],
   "source": []
  },
  {
   "cell_type": "code",
   "execution_count": null,
   "id": "be022ace-6e53-49f0-aaa6-deaafe579870",
   "metadata": {},
   "outputs": [],
   "source": []
  },
  {
   "cell_type": "code",
   "execution_count": null,
   "id": "28555084-237f-405a-a8ad-cad1cf347d88",
   "metadata": {},
   "outputs": [],
   "source": []
  },
  {
   "cell_type": "code",
   "execution_count": null,
   "id": "da09bb41-d211-4ebc-b3e2-efe3ee1e035f",
   "metadata": {},
   "outputs": [],
   "source": []
  },
  {
   "cell_type": "code",
   "execution_count": null,
   "id": "f610a9ca-4e88-4062-b9c2-1d9ec4f5da0d",
   "metadata": {},
   "outputs": [],
   "source": []
  }
 ],
 "metadata": {
  "kernelspec": {
   "display_name": "Python 3 (ipykernel)",
   "language": "python",
   "name": "python3"
  },
  "language_info": {
   "codemirror_mode": {
    "name": "ipython",
    "version": 3
   },
   "file_extension": ".py",
   "mimetype": "text/x-python",
   "name": "python",
   "nbconvert_exporter": "python",
   "pygments_lexer": "ipython3",
   "version": "3.9.6"
  }
 },
 "nbformat": 4,
 "nbformat_minor": 5
}
