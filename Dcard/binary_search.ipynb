{
 "cells": [
  {
   "cell_type": "code",
   "execution_count": null,
   "id": "5c56f0d4-a79d-4fd9-b99d-59cb3b4b098e",
   "metadata": {},
   "outputs": [],
   "source": []
  },
  {
   "cell_type": "code",
   "execution_count": null,
   "id": "29bf131c-db3a-4099-b54a-98e660f9ebd0",
   "metadata": {},
   "outputs": [],
   "source": []
  },
  {
   "cell_type": "code",
   "execution_count": null,
   "id": "988657e1-6fcc-456f-a199-63736ce28592",
   "metadata": {},
   "outputs": [],
   "source": [
    "'''\n",
    "First Bad Version (278)\n",
    "\n",
    "Input: n = 5, bad = 4\n",
    "Output: 4\n",
    "Explanation:\n",
    "call isBadVersion(3) -> false\n",
    "call isBadVersion(5) -> true\n",
    "call isBadVersion(4) -> true\n",
    "Then 4 is the first bad version.\n",
    "'''"
   ]
  },
  {
   "cell_type": "code",
   "execution_count": 1,
   "id": "f007dead-909e-44f8-8cb9-7fc78455d2b1",
   "metadata": {
    "tags": []
   },
   "outputs": [],
   "source": [
    "def isBadVersion(k):\n",
    "    if k >= 4:\n",
    "        return True\n",
    "    else:\n",
    "        return False"
   ]
  },
  {
   "cell_type": "code",
   "execution_count": 2,
   "id": "00d5f2ad-5829-41e3-927a-128844eacd20",
   "metadata": {
    "tags": []
   },
   "outputs": [],
   "source": [
    "def main(n):\n",
    "    \n",
    "    l = 1\n",
    "    r = n\n",
    "    \n",
    "    while l< r:\n",
    "        m = (l+r)//2\n",
    "        \n",
    "        if isBadVersion(m) is True:\n",
    "            r = m\n",
    "        else:\n",
    "            l = m + 1\n",
    "    return r"
   ]
  },
  {
   "cell_type": "code",
   "execution_count": 3,
   "id": "06f2d8da-6e95-4383-a43c-69bdb5f2c122",
   "metadata": {
    "tags": []
   },
   "outputs": [
    {
     "data": {
      "text/plain": [
       "4"
      ]
     },
     "execution_count": 3,
     "metadata": {},
     "output_type": "execute_result"
    }
   ],
   "source": [
    "n = 5\n",
    "main(n)"
   ]
  },
  {
   "cell_type": "code",
   "execution_count": null,
   "id": "acae4b72-7518-415e-8321-23b3f89025ee",
   "metadata": {},
   "outputs": [],
   "source": [
    "'''\n",
    "nums = [4,5,6,7,0,1,2]\n",
    "target = 0\n",
    "output= 4\n",
    "'''"
   ]
  },
  {
   "cell_type": "code",
   "execution_count": 10,
   "id": "f238c2b9-b39d-4c75-8a9d-cc3ab1ded8b5",
   "metadata": {
    "tags": []
   },
   "outputs": [],
   "source": [
    "def main(nums, target):\n",
    "    l = 0\n",
    "    r = len(nums)- 1\n",
    "    \n",
    "    while l <= r:\n",
    "        m = (l+r)//2\n",
    "        if nums[m] == target:\n",
    "            return m\n",
    "        # left\n",
    "        if nums[0] <= nums[m]:\n",
    "            if nums[0] <= target < nums[m]:\n",
    "                r = m - 1\n",
    "            else:\n",
    "                l = m + 1\n",
    "        elif nums[-1] >= nums[m]:\n",
    "            if nums[m] < target <= nums[-1]:\n",
    "                l = m + 1\n",
    "            else:\n",
    "                r = m -1\n",
    "    return r    "
   ]
  },
  {
   "cell_type": "code",
   "execution_count": 11,
   "id": "a1dd37dd-0813-4535-9715-9a651d903ded",
   "metadata": {
    "tags": []
   },
   "outputs": [
    {
     "data": {
      "text/plain": [
       "4"
      ]
     },
     "execution_count": 11,
     "metadata": {},
     "output_type": "execute_result"
    }
   ],
   "source": [
    "nums = [4,5,6,7,0,1,2]\n",
    "target = 0\n",
    "\n",
    "main(nums, target)"
   ]
  },
  {
   "cell_type": "code",
   "execution_count": null,
   "id": "ce68e4d3-c5f5-4b41-8b30-a4b85629ce64",
   "metadata": {},
   "outputs": [],
   "source": []
  },
  {
   "cell_type": "code",
   "execution_count": null,
   "id": "183c0cf8-2132-4299-9310-a5436b9d238c",
   "metadata": {},
   "outputs": [],
   "source": [
    "'''\n",
    "Find Minimum in Rotated Sorted Array (153)\n",
    "\n",
    "nums = [3,4,5,1,2]\n",
    "Output: 1\n",
    "'''"
   ]
  },
  {
   "cell_type": "code",
   "execution_count": 14,
   "id": "c0698f8b-88df-44e3-ad53-f26f65184e33",
   "metadata": {
    "tags": []
   },
   "outputs": [],
   "source": [
    "def main(nums):\n",
    "    l = 0\n",
    "    r = len(nums)-1\n",
    "    \n",
    "    while l < r:\n",
    "        m = (l+r)//2\n",
    "        if nums[m] >= nums[0]:\n",
    "            l = m + 1\n",
    "        else:\n",
    "            r = m\n",
    "    return nums[r]"
   ]
  },
  {
   "cell_type": "code",
   "execution_count": 15,
   "id": "6c2432e5-cb07-4129-b7eb-c99b132e3e9f",
   "metadata": {
    "tags": []
   },
   "outputs": [
    {
     "data": {
      "text/plain": [
       "1"
      ]
     },
     "execution_count": 15,
     "metadata": {},
     "output_type": "execute_result"
    }
   ],
   "source": [
    "nums = [3,4,5,1,2]\n",
    "\n",
    "main(nums)"
   ]
  },
  {
   "cell_type": "code",
   "execution_count": null,
   "id": "e4b58c3e-febb-4e7a-83e7-d98bfcf963b7",
   "metadata": {},
   "outputs": [],
   "source": []
  }
 ],
 "metadata": {
  "kernelspec": {
   "display_name": "Python 3 (ipykernel)",
   "language": "python",
   "name": "python3"
  },
  "language_info": {
   "codemirror_mode": {
    "name": "ipython",
    "version": 3
   },
   "file_extension": ".py",
   "mimetype": "text/x-python",
   "name": "python",
   "nbconvert_exporter": "python",
   "pygments_lexer": "ipython3",
   "version": "3.9.6"
  }
 },
 "nbformat": 4,
 "nbformat_minor": 5
}
