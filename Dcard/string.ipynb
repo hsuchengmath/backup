{
 "cells": [
  {
   "cell_type": "code",
   "execution_count": null,
   "id": "07b6f944-53f3-4264-8844-5e6825337573",
   "metadata": {},
   "outputs": [],
   "source": []
  },
  {
   "cell_type": "code",
   "execution_count": null,
   "id": "cbe6a9eb-8d9b-4db3-8c39-89275a02fad9",
   "metadata": {},
   "outputs": [],
   "source": [
    "'''\n",
    "Longest Substring Without Repeating Characters (3)\n",
    "\n",
    "given array and find max subarray st. not repeating\n",
    "\n",
    "'''"
   ]
  },
  {
   "cell_type": "code",
   "execution_count": 1,
   "id": "8e6989fd-a930-4ed1-9705-c6c86f82936a",
   "metadata": {
    "tags": []
   },
   "outputs": [],
   "source": [
    "def main(s):\n",
    "    output = 0\n",
    "    l = 0\n",
    "    char_set = set()\n",
    "    for r in range(len(s)):\n",
    "        char = s[r]\n",
    "        if char not in char_set:\n",
    "            char_set.add(char)\n",
    "        else:\n",
    "            while char in char_set:\n",
    "                char_set.remove(s[l])\n",
    "                l +=1\n",
    "            char_set.add(char)\n",
    "        output = max(output, len(char_set))\n",
    "    return output"
   ]
  },
  {
   "cell_type": "code",
   "execution_count": 2,
   "id": "95ed018f-90bd-45e6-aa67-bbb465011b3f",
   "metadata": {
    "tags": []
   },
   "outputs": [
    {
     "data": {
      "text/plain": [
       "3"
      ]
     },
     "execution_count": 2,
     "metadata": {},
     "output_type": "execute_result"
    }
   ],
   "source": [
    "s = \"abcabcbb\"\n",
    "\n",
    "main(s)"
   ]
  },
  {
   "cell_type": "code",
   "execution_count": null,
   "id": "6741d660-9695-4123-906e-c6644322215d",
   "metadata": {},
   "outputs": [],
   "source": [
    "'''\n",
    "Longest Palindromic Substring (5)\n",
    "\n",
    "given a string s, find longest substring and it is Palindromic\n",
    "\n",
    "test:\n",
    "s = \"babad\"\n",
    "output = \"bab\"\n",
    "\n",
    "\n",
    "'''"
   ]
  },
  {
   "cell_type": "code",
   "execution_count": 38,
   "id": "6fcab37b-bbad-41fe-ae7a-4ff8069a0481",
   "metadata": {
    "tags": []
   },
   "outputs": [],
   "source": [
    "def main(s):\n",
    "    output = ''\n",
    "    \n",
    "    for i in range(len(s)):\n",
    "        # check odd\n",
    "        odd_out = s[i]\n",
    "        l, r = i-1, i+1\n",
    "        while 0 <= l < r < len(s):\n",
    "            if s[l] == s[r]:\n",
    "                odd_out = s[l] + odd_out + s[r]\n",
    "                l-=1\n",
    "                r+=1\n",
    "            else:\n",
    "                break\n",
    "        # check even\n",
    "        even_out = ''\n",
    "        l, r = i, i-1\n",
    "        while 0 <= l < r < len(s):\n",
    "            if s[l] == s[r]:\n",
    "                even_out = s[l] + even_out + s[r]\n",
    "                l-=1\n",
    "                r+=1\n",
    "            else:\n",
    "                break\n",
    "        if len(output) < len(odd_out):\n",
    "            output = odd_out\n",
    "        \n",
    "        if len(output) < len(even_out):\n",
    "            output = even_out     \n",
    "    return output"
   ]
  },
  {
   "cell_type": "code",
   "execution_count": 39,
   "id": "2098e631-7660-4dca-aeaa-f0524bda70ed",
   "metadata": {
    "tags": []
   },
   "outputs": [
    {
     "data": {
      "text/plain": [
       "'bab'"
      ]
     },
     "execution_count": 39,
     "metadata": {},
     "output_type": "execute_result"
    }
   ],
   "source": [
    "s = \"babad\"\n",
    "\n",
    "main(s)"
   ]
  },
  {
   "cell_type": "code",
   "execution_count": null,
   "id": "26cb788f-5138-4605-a18f-a99eeeba3f85",
   "metadata": {},
   "outputs": [],
   "source": []
  },
  {
   "cell_type": "code",
   "execution_count": null,
   "id": "6f384048-25c4-4bd3-bcb8-6b223ed3a3aa",
   "metadata": {},
   "outputs": [],
   "source": []
  },
  {
   "cell_type": "code",
   "execution_count": null,
   "id": "c7070b1f-207d-4659-9ef4-c81c142a14ed",
   "metadata": {},
   "outputs": [],
   "source": []
  },
  {
   "cell_type": "code",
   "execution_count": null,
   "id": "ca2e59cf-022f-4d09-96bd-a9d35e2baa4e",
   "metadata": {},
   "outputs": [],
   "source": [
    "'''\n",
    "Find All Anagrams in a String (438) [non-mock]\n",
    "\n",
    "given string s, p\n",
    "return the list of indices and these induces represent the start index for anagram of p\n",
    "\n",
    "s = \"cbaebabacd\"\n",
    "p = \"abc\"\n",
    "\n",
    "output = [0,6]\n",
    "'''"
   ]
  },
  {
   "cell_type": "code",
   "execution_count": 36,
   "id": "b43414c8-2227-4b62-a935-bb66635918fb",
   "metadata": {
    "tags": []
   },
   "outputs": [],
   "source": [
    "from collections import defaultdict \n",
    "\n",
    "def main(s, p):\n",
    "    output = []\n",
    "    char2cnt_sub_s, char2cnt_p = defaultdict(int), defaultdict(int)\n",
    "\n",
    "    if len(p) > len(s):\n",
    "        return []\n",
    "    \n",
    "    for c in p:\n",
    "        char2cnt_p[c] += 1\n",
    "    \n",
    "    for i in range(len(p)):\n",
    "        char2cnt_sub_s[s[i]] +=1\n",
    "    \n",
    "\n",
    "    for i in range(len(s)-len(p)+1):\n",
    "        if i> 0:\n",
    "            char2cnt_sub_s[s[i+len(p)-1]] +=1\n",
    "            char2cnt_sub_s[s[i-1]] -=1\n",
    "            \n",
    "            if char2cnt_sub_s[s[i-1]] == 0:\n",
    "                del char2cnt_sub_s[s[i-1]]\n",
    "\n",
    "        if len(char2cnt_sub_s) == len(char2cnt_p) and isanagram(char2cnt_sub_s, char2cnt_p):\n",
    "            output.append(i)\n",
    "\n",
    "    return output\n",
    "\n",
    "def isanagram(a, b):\n",
    "    for c in b.keys():\n",
    "        if a.get(c, 0) != b[c]:\n",
    "            return False\n",
    "    return True\n"
   ]
  },
  {
   "cell_type": "code",
   "execution_count": 35,
   "id": "4c5024d1-fd08-4f5d-bc39-75ae7e1229a3",
   "metadata": {
    "tags": []
   },
   "outputs": [
    {
     "data": {
      "text/plain": [
       "[0, 6]"
      ]
     },
     "execution_count": 35,
     "metadata": {},
     "output_type": "execute_result"
    }
   ],
   "source": [
    "s = \"cbaebabacd\"\n",
    "p = \"abc\"\n",
    "\n",
    "main(s, p)"
   ]
  },
  {
   "cell_type": "code",
   "execution_count": 23,
   "id": "2cd8f972-e410-4c83-bee1-98436bcc2823",
   "metadata": {
    "tags": []
   },
   "outputs": [
    {
     "data": {
      "text/plain": [
       "[0, 6]"
      ]
     },
     "execution_count": 23,
     "metadata": {},
     "output_type": "execute_result"
    }
   ],
   "source": [
    "findAnagrams(s, p)"
   ]
  },
  {
   "cell_type": "code",
   "execution_count": null,
   "id": "1847cfcc-bf36-49ed-90eb-f4957784ab8d",
   "metadata": {},
   "outputs": [],
   "source": [
    "'''\n",
    "Longest Repeating Character Replacement (424)\n",
    "\n",
    "given string s and integer k\n",
    "\n",
    "we can take any substring and replace any char by k steps\n",
    "find the lengthest substing of repeating char\n",
    "\n",
    "test:\n",
    "s = \"ABABC\"\n",
    "k = 2\n",
    "\n",
    "output = 4\n",
    "\n",
    "\n",
    "==========================\n",
    "\n",
    "test:\n",
    "s = \"ABABC\"\n",
    "k = 2\n",
    "output = 4\n",
    "\n",
    "\n",
    "l = 0\n",
    "output = 0\n",
    "char2cnt = dict()\n",
    "\n",
    "for r in range(len(s)):\n",
    "    # update char2cnt\n",
    "    char2cnt[s[r]] +=1\n",
    "    # if |substring| - |most freq char| >k:\n",
    "    if (r-l+1) - max(char2cnt.values()) > k:\n",
    "        # update l until, |substring| - |most freq char| <= k\n",
    "        while (r-l+1) - max(char2cnt.values()) > k and 0<=l<r:\n",
    "            l +=1\n",
    "            char2cnt[s[l]]-=1\n",
    "    # update output\n",
    "    output = max(output, (r-l+1))\n",
    "\n",
    "'''"
   ]
  },
  {
   "cell_type": "code",
   "execution_count": 42,
   "id": "3589726c-8df3-489a-b4e3-e3bab7ee1ec1",
   "metadata": {
    "tags": []
   },
   "outputs": [],
   "source": [
    "from collections import defaultdict \n",
    "\n",
    "def main(s, k):\n",
    "    l = 0\n",
    "    output = 0\n",
    "    char2cnt = defaultdict(int)\n",
    "    \n",
    "    for r in range(len(s)):\n",
    "        # update char2cnt\n",
    "        char2cnt[s[r]] += 1\n",
    "        # check most freq (condition : the most freq + k < (r - l + 1))\n",
    "        if max(char2cnt.values()) + k < (r - l + 1):\n",
    "            # update r util the condition\n",
    "            while max(char2cnt.values()) + k < (r - l + 1) and 0<=l<=r<len(s):\n",
    "                char2cnt[s[l]]-=1\n",
    "                l +=1\n",
    "        # update output\n",
    "        output = max(output, (r-l+1))\n",
    "    return output\n",
    "        "
   ]
  },
  {
   "cell_type": "code",
   "execution_count": 43,
   "id": "90033882-09ed-4322-b775-92fe35bd3d90",
   "metadata": {
    "tags": []
   },
   "outputs": [
    {
     "data": {
      "text/plain": [
       "4"
      ]
     },
     "execution_count": 43,
     "metadata": {},
     "output_type": "execute_result"
    }
   ],
   "source": [
    "s = \"ABABC\"\n",
    "k = 2\n",
    "\n",
    "main(s, k)"
   ]
  },
  {
   "cell_type": "code",
   "execution_count": null,
   "id": "f0429d5c-0198-4946-807d-1ad7c2b73a17",
   "metadata": {},
   "outputs": [],
   "source": []
  },
  {
   "cell_type": "code",
   "execution_count": null,
   "id": "eb4af3e0-ca2a-4736-8cee-765430714699",
   "metadata": {},
   "outputs": [],
   "source": []
  },
  {
   "cell_type": "code",
   "execution_count": null,
   "id": "4e3de9ee-8404-4570-a0c7-aca7c00af546",
   "metadata": {},
   "outputs": [],
   "source": []
  },
  {
   "cell_type": "code",
   "execution_count": null,
   "id": "0701c932-f986-4333-a897-7925b1ab774d",
   "metadata": {},
   "outputs": [],
   "source": []
  },
  {
   "cell_type": "code",
   "execution_count": null,
   "id": "6fd64f64-3e6e-4b41-b56b-eecf6677a708",
   "metadata": {},
   "outputs": [],
   "source": []
  },
  {
   "cell_type": "code",
   "execution_count": null,
   "id": "e073ba1e-4d54-4879-ba6c-20597d6bdc48",
   "metadata": {},
   "outputs": [],
   "source": [
    "5FHPONI7"
   ]
  }
 ],
 "metadata": {
  "kernelspec": {
   "display_name": "Python 3 (ipykernel)",
   "language": "python",
   "name": "python3"
  },
  "language_info": {
   "codemirror_mode": {
    "name": "ipython",
    "version": 3
   },
   "file_extension": ".py",
   "mimetype": "text/x-python",
   "name": "python",
   "nbconvert_exporter": "python",
   "pygments_lexer": "ipython3",
   "version": "3.9.6"
  }
 },
 "nbformat": 4,
 "nbformat_minor": 5
}
