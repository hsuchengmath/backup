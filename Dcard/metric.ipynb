{
 "cells": [
  {
   "cell_type": "code",
   "execution_count": null,
   "id": "994bdac7-2213-4fc8-b85b-36d89e56f80b",
   "metadata": {},
   "outputs": [],
   "source": []
  },
  {
   "cell_type": "code",
   "execution_count": null,
   "id": "b5fe3b9b-1c54-4c5e-8ea7-f3d93976db3a",
   "metadata": {},
   "outputs": [],
   "source": [
    "'''\n",
    "- implement metric (precision / recall / F1 / MAP / NDCG)\n",
    "'''"
   ]
  },
  {
   "cell_type": "code",
   "execution_count": null,
   "id": "db911087-a16d-4bcb-93ca-efe21b731f73",
   "metadata": {},
   "outputs": [],
   "source": [
    "'''\n",
    "precision / recall / f1\n",
    "\n",
    "1. please introduce these metric\n",
    "2. how to use it in recommendaiton?\n",
    "3. implement\n",
    "'''"
   ]
  },
  {
   "cell_type": "code",
   "execution_count": null,
   "id": "6961da49-f978-4438-b2c2-cb862defe8a5",
   "metadata": {},
   "outputs": [],
   "source": [
    "'''\n",
    "1. it can apply in classification\n",
    "2. precision = true positive / (true positive + false positive)\n",
    "3. recall = true positive / (true positive + false negative)\n",
    "4. f1 = 2 (precision * recall) / (precision + recall)\n",
    "5. test:\n",
    "y_true = [1, 0, 1, 1, 0 ,0, 0]\n",
    "y_pred = [0, 0, 1, 1, 1, 1, 0]\n",
    "'''"
   ]
  },
  {
   "cell_type": "code",
   "execution_count": 18,
   "id": "635dab91-4a4c-47d4-b590-e625a18d6c59",
   "metadata": {
    "tags": []
   },
   "outputs": [
    {
     "name": "stdout",
     "output_type": "stream",
     "text": [
      "precision_score :  0.6666666666666666\n",
      "recall_score :  0.5\n",
      "f1_score :  0.5714285714285715\n"
     ]
    }
   ],
   "source": [
    "def calculate_confusion_metrix(y_true, y_pred):\n",
    "    \"\"\"\n",
    "    Args : \n",
    "        y_true(list) : ground truth label\n",
    "        y_pred (list): prediced label\n",
    "    Returns:\n",
    "        TP (int) : ...\n",
    "        TN (int)\n",
    "        FP (int)\n",
    "        FN (int)\n",
    "    \"\"\"\n",
    "    TP, TN, FP, FN = 0,0,0,0\n",
    "    \n",
    "    for y, y_p in zip(y_true, y_pred):\n",
    "        if y == y_p and y == 1:\n",
    "            TP +=1\n",
    "        elif y == y_p and y == 0:\n",
    "            TN +=1\n",
    "        elif y != y_p and y == 1:\n",
    "            FP +=1\n",
    "        else:\n",
    "            FN +=1\n",
    "\n",
    "    return TP, TN, FP, FN\n",
    "\n",
    "def precision_score_func(TP, FP):\n",
    "    \"\"\"\n",
    "    Args:\n",
    "        TP (int) : \n",
    "        FP (int) :  \n",
    "    Returns:\n",
    "        score (float) : \n",
    "    \"\"\"\n",
    "    if TP + FP > 0:\n",
    "        score = TP  / (TP + FP)\n",
    "    else:\n",
    "        score = 0.0\n",
    "        \n",
    "    return score\n",
    "\n",
    "def recall_score_func(TP, FN):\n",
    "    \"\"\"\n",
    "    Args:\n",
    "        TP (int) : \n",
    "        FN (int) :  \n",
    "    Returns:\n",
    "        score (float) : \n",
    "    \"\"\"\n",
    "    if TP + FN > 0:\n",
    "        score = TP  / (TP + FN)\n",
    "    else:\n",
    "        score = 0.0\n",
    "        \n",
    "    return score\n",
    "\n",
    "def f1_score_func(precision_score, recall_score):\n",
    "    \"\"\"\n",
    "    Args:\n",
    "        precision_score (int) : \n",
    "        recall_score (int) :  \n",
    "    Returns:\n",
    "        score (float) : \n",
    "    \"\"\"\n",
    "    if precision_score + recall_score > 0:\n",
    "        score = 2 * (precision_score * recall_score) / (precision_score + recall_score)\n",
    "    else:\n",
    "        score = 0.0\n",
    "        \n",
    "    return score\n",
    "\n",
    "# test\n",
    "y_true = [1, 0, 1, 1, 0 ,0, 0]\n",
    "y_pred = [0, 0, 1, 1, 1, 1, 0]\n",
    "    \n",
    "    \n",
    "TP, TN, FP, FN = calculate_confusion_metrix(y_true, y_pred)\n",
    "\n",
    "precision_score = precision_score_func(TP, FP)\n",
    "recall_score = recall_score_func(TP, FN)\n",
    "f1_score = f1_score_func(precision_score, recall_score)\n",
    "\n",
    "print('precision_score : ', precision_score)\n",
    "print('recall_score : ', recall_score)\n",
    "print('f1_score : ', f1_score)"
   ]
  },
  {
   "cell_type": "code",
   "execution_count": null,
   "id": "5a751de4-9cc6-4e83-b150-cfd931431cc2",
   "metadata": {},
   "outputs": [],
   "source": [
    "'''\n",
    "multiple class:\n",
    "\n",
    "three class = [0,1,2]\n",
    "\n",
    "test:\n",
    "y_true = [0, 1, 2, 0, 1, 2, 0, 1, 2]\n",
    "y_pred = [0, 2, 2, 1, 1, 1, 0, 1, 2]\n",
    "'''"
   ]
  },
  {
   "cell_type": "code",
   "execution_count": 19,
   "id": "3629ea9d-4b95-4256-9f49-47887eeac3cc",
   "metadata": {
    "tags": []
   },
   "outputs": [],
   "source": [
    "def calculate_confusion_metrix(y_true, y_pred, all_labels):\n",
    "    \"\"\"\n",
    "    Args : \n",
    "        y_true(list) : ground truth label\n",
    "        y_pred (list): prediced label\n",
    "    Returns:\n",
    "        TP (dict) : ...\n",
    "        FP (dict)\n",
    "        FN (dict)\n",
    "    \"\"\"\n",
    "    TP = {label : 0 for label in all_labels}\n",
    "    FP = {label : 0 for label in all_labels}\n",
    "    FN = {label : 0 for label in all_labels}\n",
    "    \n",
    "    for y, y_p in zip(y_true, y_pred):\n",
    "        \n",
    "        if y == y_p:\n",
    "            TP[y] +=1\n",
    "        else:\n",
    "            FP[y_p] +=1\n",
    "            FN[y] +=1\n",
    "\n",
    "    return TP, FP, FN"
   ]
  },
  {
   "cell_type": "code",
   "execution_count": 20,
   "id": "49e3d8b5-c87f-4f99-9854-1a0baf038646",
   "metadata": {
    "tags": []
   },
   "outputs": [
    {
     "name": "stdout",
     "output_type": "stream",
     "text": [
      "label :  0\n",
      "precision_score :  1.0\n",
      "recall_score :  0.6666666666666666\n",
      "f1_score :  0.8\n",
      "=========\n",
      "label :  1\n",
      "precision_score :  0.5\n",
      "recall_score :  0.6666666666666666\n",
      "f1_score :  0.5714285714285715\n",
      "=========\n",
      "label :  2\n",
      "precision_score :  0.6666666666666666\n",
      "recall_score :  0.6666666666666666\n",
      "f1_score :  0.6666666666666666\n",
      "=========\n"
     ]
    }
   ],
   "source": [
    "all_labels = [0, 1, 2]\n",
    "y_true = [0, 1, 2, 0, 1, 2, 0, 1, 2]\n",
    "y_pred = [0, 2, 2, 1, 1, 1, 0, 1, 2]\n",
    "\n",
    "\n",
    "TP, FP, FN = calculate_confusion_metrix(y_true, y_pred, all_labels)\n",
    "\n",
    "for label in all_labels:\n",
    "    print('label : ', label)\n",
    "    TP_ = TP[label]\n",
    "    FP_ = FP[label]\n",
    "    FN_ = FN[label]\n",
    "    # precision / recall / f1\n",
    "    precision_score = precision_score_func(TP_, FP_)\n",
    "    recall_score = recall_score_func(TP_, FN_)\n",
    "    f1_score = f1_score_func(precision_score, recall_score)\n",
    "    print('precision_score : ', precision_score)\n",
    "    print('recall_score : ', recall_score)\n",
    "    print('f1_score : ', f1_score)\n",
    "    print('=========')"
   ]
  },
  {
   "cell_type": "code",
   "execution_count": null,
   "id": "dc4666ff-6c79-469f-9d2f-3e2d251aec47",
   "metadata": {},
   "outputs": [],
   "source": []
  },
  {
   "cell_type": "code",
   "execution_count": null,
   "id": "c23e1552-aea1-4685-aaff-7352f747fda6",
   "metadata": {},
   "outputs": [],
   "source": [
    "'''\n",
    "MAP : mean average precision\n",
    "\n",
    "test :\n",
    "y_true = {'user': [item1, item2, ...]}\n",
    "y_pred = {'user': [item1, item2, ...]}\n",
    "'''"
   ]
  },
  {
   "cell_type": "code",
   "execution_count": null,
   "id": "e1f22b18-531a-495b-b140-6bc320a9652a",
   "metadata": {},
   "outputs": [],
   "source": [
    "'''\n",
    "1. in recommendaiton, it consider ranking and precision and usually choose topK\n",
    "2. example:\n",
    "impression : A, B, C, D  ,E\n",
    "click : A, C ,E\n",
    "topK = 5\n",
    "\n",
    "impression hit precision@K\n",
    "A          1        1/1 =1\n",
    "B          0        -\n",
    "C          1        2/3=0.66\n",
    "D          0        - \n",
    "E          1        3/5=0.6\n",
    "\n",
    "\n",
    "ap = (1 + 0.66 + 0.6 ) / 3\n",
    "\n",
    "why only consider A, C, E, not all?\n",
    "because we only consider positive click, \n",
    "not expect impact by other not relative negative label\n",
    "'''"
   ]
  },
  {
   "cell_type": "code",
   "execution_count": null,
   "id": "2788729d-c55c-406b-87dd-5277f4543925",
   "metadata": {},
   "outputs": [],
   "source": [
    "'''\n",
    "test:\n",
    "y_true = {'user1': [item1, item2, item3]}\n",
    "y_pred = {'user1': [item1, item3, item5, ...]}\n",
    "'''"
   ]
  },
  {
   "cell_type": "code",
   "execution_count": 33,
   "id": "3b9fbd4d-d1d2-4a7d-9a02-e2f201cfd656",
   "metadata": {
    "tags": []
   },
   "outputs": [],
   "source": [
    "def MAP(y_true, y_pred, topK):\n",
    "    user_list = list(y_true.keys())\n",
    "    \n",
    "    MAP_score = []\n",
    "    \n",
    "    for user in user_list:\n",
    "        y = y_true[user]\n",
    "        y_p = y_pred[user]\n",
    "        \n",
    "        hit = 0\n",
    "        AP = []\n",
    "        for k, item in enumerate(y_p[:topK]):\n",
    "            if item in y:\n",
    "                hit +=1\n",
    "                AP.append(hit / (k+1))\n",
    "        AP = sum(AP) / len(AP)\n",
    "        MAP_score.append(AP)\n",
    "    MAP_score = sum(MAP_score) / len(MAP_score)\n",
    "    return MAP_score"
   ]
  },
  {
   "cell_type": "code",
   "execution_count": 36,
   "id": "436bfeae-8a0e-4831-8529-ca22a81531b9",
   "metadata": {
    "tags": []
   },
   "outputs": [
    {
     "data": {
      "text/plain": [
       "1.0"
      ]
     },
     "execution_count": 36,
     "metadata": {},
     "output_type": "execute_result"
    }
   ],
   "source": [
    "y_true = {'123': [1, 2, 3]}\n",
    "y_pred = {'123': [1, 0, 2, 5]}\n",
    "topK = 2\n",
    "\n",
    "MAP(y_true, y_pred, topK)"
   ]
  },
  {
   "cell_type": "code",
   "execution_count": null,
   "id": "90b79403-f84f-4c1b-b8cd-f95bb17a65c5",
   "metadata": {},
   "outputs": [],
   "source": []
  },
  {
   "cell_type": "code",
   "execution_count": null,
   "id": "48ab43e0-3fca-4cb4-90c3-ca671fcd0ca9",
   "metadata": {},
   "outputs": [],
   "source": []
  },
  {
   "cell_type": "code",
   "execution_count": null,
   "id": "d7b89eec-8873-4a22-8fad-a200cffc7237",
   "metadata": {},
   "outputs": [],
   "source": []
  }
 ],
 "metadata": {
  "kernelspec": {
   "display_name": "Python 3 (ipykernel)",
   "language": "python",
   "name": "python3"
  },
  "language_info": {
   "codemirror_mode": {
    "name": "ipython",
    "version": 3
   },
   "file_extension": ".py",
   "mimetype": "text/x-python",
   "name": "python",
   "nbconvert_exporter": "python",
   "pygments_lexer": "ipython3",
   "version": "3.9.6"
  }
 },
 "nbformat": 4,
 "nbformat_minor": 5
}
